{
 "cells": [
  {
   "cell_type": "code",
   "execution_count": 2,
   "metadata": {},
   "outputs": [],
   "source": [
    "import requests\n",
    "import json\n",
    "import pandas as pd"
   ]
  },
  {
   "cell_type": "code",
   "execution_count": 8,
   "metadata": {},
   "outputs": [
    {
     "data": {
      "text/html": [
       "<div>\n",
       "<style scoped>\n",
       "    .dataframe tbody tr th:only-of-type {\n",
       "        vertical-align: middle;\n",
       "    }\n",
       "\n",
       "    .dataframe tbody tr th {\n",
       "        vertical-align: top;\n",
       "    }\n",
       "\n",
       "    .dataframe thead th {\n",
       "        text-align: right;\n",
       "    }\n",
       "</style>\n",
       "<table border=\"1\" class=\"dataframe\">\n",
       "  <thead>\n",
       "    <tr style=\"text-align: right;\">\n",
       "      <th></th>\n",
       "      <th>type</th>\n",
       "      <th>year</th>\n",
       "      <th>address</th>\n",
       "      <th>comment</th>\n",
       "      <th>category</th>\n",
       "      <th>num1</th>\n",
       "      <th>status_color</th>\n",
       "      <th>status</th>\n",
       "    </tr>\n",
       "  </thead>\n",
       "  <tbody>\n",
       "    <tr>\n",
       "      <th>0</th>\n",
       "      <td>Дом жилой</td>\n",
       "      <td>XIX век</td>\n",
       "      <td>набережная VI Армии, 41</td>\n",
       "      <td>NaN</td>\n",
       "      <td>региональная</td>\n",
       "      <td>Объект культурного наследия:№ 3500068000</td>\n",
       "      <td>Black</td>\n",
       "      <td>Утрачен полностью или значительно разрушен</td>\n",
       "    </tr>\n",
       "    <tr>\n",
       "      <th>1</th>\n",
       "      <td>Дом жилой</td>\n",
       "      <td>первая половина XIX века</td>\n",
       "      <td>набережная VI Армии, 51</td>\n",
       "      <td>жилой дом</td>\n",
       "      <td>региональная</td>\n",
       "      <td>Объект культурного наследия:№ 3500000840</td>\n",
       "      <td>DarkBlue</td>\n",
       "      <td>Отреставрирован со значительными нарушениями п...</td>\n",
       "    </tr>\n",
       "    <tr>\n",
       "      <th>2</th>\n",
       "      <td>Дом жилой (с дворовым пристроем)</td>\n",
       "      <td>первая половина XIX века</td>\n",
       "      <td>набережная VI Армии, 81</td>\n",
       "      <td>NaN</td>\n",
       "      <td>региональная</td>\n",
       "      <td>Объект культурного наследия:№ 3500070001</td>\n",
       "      <td>Black</td>\n",
       "      <td>Утрачен полностью или значительно разрушен</td>\n",
       "    </tr>\n",
       "    <tr>\n",
       "      <th>3</th>\n",
       "      <td>Дом жилой</td>\n",
       "      <td>третья четверть XIX века</td>\n",
       "      <td>набережная VI Армии, 91</td>\n",
       "      <td>NaN</td>\n",
       "      <td>региональная</td>\n",
       "      <td>Объект культурного наследия:№ 3500000842</td>\n",
       "      <td>Black</td>\n",
       "      <td>Утрачен полностью или значительно разрушен</td>\n",
       "    </tr>\n",
       "    <tr>\n",
       "      <th>4</th>\n",
       "      <td>Дом жилой</td>\n",
       "      <td>третья четверть XIX века</td>\n",
       "      <td>набережная VI Армии, 93</td>\n",
       "      <td>NaN</td>\n",
       "      <td>региональная</td>\n",
       "      <td>Объект культурного наследия:№ 3500000844</td>\n",
       "      <td>Black</td>\n",
       "      <td>Утрачен полностью или значительно разрушен</td>\n",
       "    </tr>\n",
       "  </tbody>\n",
       "</table>\n",
       "</div>"
      ],
      "text/plain": [
       "                               type                      year  \\\n",
       "0                         Дом жилой                   XIX век   \n",
       "1                         Дом жилой  первая половина XIX века   \n",
       "2  Дом жилой (с дворовым пристроем)  первая половина XIX века   \n",
       "3                         Дом жилой  третья четверть XIX века   \n",
       "4                         Дом жилой  третья четверть XIX века   \n",
       "\n",
       "                   address    comment      category  \\\n",
       "0  набережная VI Армии, 41        NaN  региональная   \n",
       "1  набережная VI Армии, 51  жилой дом  региональная   \n",
       "2  набережная VI Армии, 81        NaN  региональная   \n",
       "3  набережная VI Армии, 91        NaN  региональная   \n",
       "4  набережная VI Армии, 93        NaN  региональная   \n",
       "\n",
       "                                       num1 status_color  \\\n",
       "0  Объект культурного наследия:№ 3500068000        Black   \n",
       "1  Объект культурного наследия:№ 3500000840     DarkBlue   \n",
       "2  Объект культурного наследия:№ 3500070001        Black   \n",
       "3  Объект культурного наследия:№ 3500000842        Black   \n",
       "4  Объект культурного наследия:№ 3500000844        Black   \n",
       "\n",
       "                                              status  \n",
       "0         Утрачен полностью или значительно разрушен  \n",
       "1  Отреставрирован со значительными нарушениями п...  \n",
       "2         Утрачен полностью или значительно разрушен  \n",
       "3         Утрачен полностью или значительно разрушен  \n",
       "4         Утрачен полностью или значительно разрушен  "
      ]
     },
     "execution_count": 8,
     "metadata": {},
     "output_type": "execute_result"
    }
   ],
   "source": [
    "houses = pd.read_csv('houses.csv', index_col=0)\n",
    "houses.head()"
   ]
  },
  {
   "cell_type": "markdown",
   "metadata": {},
   "source": [
    "У нас есть адреса домов, но нет их координат. Получить их можно через геокодер Яндекса."
   ]
  },
  {
   "cell_type": "code",
   "execution_count": 9,
   "metadata": {},
   "outputs": [],
   "source": [
    "TOKEN = None # your token key"
   ]
  },
  {
   "cell_type": "code",
   "execution_count": 5,
   "metadata": {},
   "outputs": [],
   "source": [
    "def get_geo_data(**kwargs):\n",
    "    API_URL = \"https://geocode-maps.yandex.ru/1.x/\"\n",
    "    params = {**kwargs}\n",
    "    data = requests.get(API_URL, params).json()\n",
    "    return data['response']['GeoObjectCollection']['featureMember'][0]['GeoObject']['Point']['pos'].split(), data['response']['GeoObjectCollection']['featureMember'][0]['GeoObject']['metaDataProperty']['GeocoderMetaData']['text']"
   ]
  },
  {
   "cell_type": "markdown",
   "metadata": {},
   "source": [
    "Проверяем всё ли работает нормально"
   ]
  },
  {
   "cell_type": "code",
   "execution_count": 10,
   "metadata": {},
   "outputs": [
    {
     "data": {
      "text/plain": [
       "(['39.870817', '59.225663'], 'Россия, Вологда, улица Воровского, 34')"
      ]
     },
     "execution_count": 10,
     "metadata": {},
     "output_type": "execute_result"
    }
   ],
   "source": [
    "get_geo_data(format='json', geocode='Вологда,+Воровского+улица,+дом+34', apikey=TOKEN)"
   ]
  },
  {
   "cell_type": "code",
   "execution_count": null,
   "metadata": {},
   "outputs": [],
   "source": [
    "lat = []\n",
    "lon = []\n",
    "addr = []\n",
    "for i in houses['address']:\n",
    "    points, street  = get_geo_data(format='json', geocode=i, apikey=TOKEN)\n",
    "    lat.append(points[0])\n",
    "    lon.append(points[1])\n",
    "    addr.append(street)\n",
    "    print(i, '\\n', street)\n",
    "    print('\\n')"
   ]
  },
  {
   "cell_type": "code",
   "execution_count": 12,
   "metadata": {},
   "outputs": [],
   "source": [
    "houses['lat'] = lat\n",
    "houses['lon'] = lon\n",
    "houses['yandex_addr'] = addr"
   ]
  },
  {
   "cell_type": "markdown",
   "metadata": {},
   "source": [
    "Теперь в датасете есть полный адрес, а также широта и долгота каждого дома."
   ]
  },
  {
   "cell_type": "code",
   "execution_count": 13,
   "metadata": {},
   "outputs": [
    {
     "data": {
      "text/html": [
       "<div>\n",
       "<style scoped>\n",
       "    .dataframe tbody tr th:only-of-type {\n",
       "        vertical-align: middle;\n",
       "    }\n",
       "\n",
       "    .dataframe tbody tr th {\n",
       "        vertical-align: top;\n",
       "    }\n",
       "\n",
       "    .dataframe thead th {\n",
       "        text-align: right;\n",
       "    }\n",
       "</style>\n",
       "<table border=\"1\" class=\"dataframe\">\n",
       "  <thead>\n",
       "    <tr style=\"text-align: right;\">\n",
       "      <th></th>\n",
       "      <th>type</th>\n",
       "      <th>year</th>\n",
       "      <th>address</th>\n",
       "      <th>comment</th>\n",
       "      <th>category</th>\n",
       "      <th>num1</th>\n",
       "      <th>status_color</th>\n",
       "      <th>status</th>\n",
       "      <th>lat</th>\n",
       "      <th>lon</th>\n",
       "      <th>yandex_addr</th>\n",
       "    </tr>\n",
       "  </thead>\n",
       "  <tbody>\n",
       "    <tr>\n",
       "      <th>0</th>\n",
       "      <td>Дом жилой</td>\n",
       "      <td>XIX век</td>\n",
       "      <td>набережная VI Армии, 41</td>\n",
       "      <td>NaN</td>\n",
       "      <td>региональная</td>\n",
       "      <td>Объект культурного наследия:№ 3500068000</td>\n",
       "      <td>Black</td>\n",
       "      <td>Утрачен полностью или значительно разрушен</td>\n",
       "      <td>39.894361</td>\n",
       "      <td>59.235377</td>\n",
       "      <td>Россия, Вологда, набережная 6-й Армии, 41</td>\n",
       "    </tr>\n",
       "    <tr>\n",
       "      <th>1</th>\n",
       "      <td>Дом жилой</td>\n",
       "      <td>первая половина XIX века</td>\n",
       "      <td>набережная VI Армии, 51</td>\n",
       "      <td>жилой дом</td>\n",
       "      <td>региональная</td>\n",
       "      <td>Объект культурного наследия:№ 3500000840</td>\n",
       "      <td>DarkBlue</td>\n",
       "      <td>Отреставрирован со значительными нарушениями п...</td>\n",
       "      <td>39.891415</td>\n",
       "      <td>59.232863</td>\n",
       "      <td>Россия, Вологда, набережная 6-й Армии, 51</td>\n",
       "    </tr>\n",
       "    <tr>\n",
       "      <th>2</th>\n",
       "      <td>Дом жилой (с дворовым пристроем)</td>\n",
       "      <td>первая половина XIX века</td>\n",
       "      <td>набережная VI Армии, 81</td>\n",
       "      <td>NaN</td>\n",
       "      <td>региональная</td>\n",
       "      <td>Объект культурного наследия:№ 3500070001</td>\n",
       "      <td>Black</td>\n",
       "      <td>Утрачен полностью или значительно разрушен</td>\n",
       "      <td>39.878623</td>\n",
       "      <td>59.228623</td>\n",
       "      <td>Россия, Вологда, набережная 6-й Армии, 81</td>\n",
       "    </tr>\n",
       "    <tr>\n",
       "      <th>3</th>\n",
       "      <td>Дом жилой</td>\n",
       "      <td>третья четверть XIX века</td>\n",
       "      <td>набережная VI Армии, 91</td>\n",
       "      <td>NaN</td>\n",
       "      <td>региональная</td>\n",
       "      <td>Объект культурного наследия:№ 3500000842</td>\n",
       "      <td>Black</td>\n",
       "      <td>Утрачен полностью или значительно разрушен</td>\n",
       "      <td>39.882405</td>\n",
       "      <td>59.226685</td>\n",
       "      <td>Россия, Вологда, набережная 6-й Армии, 91</td>\n",
       "    </tr>\n",
       "    <tr>\n",
       "      <th>4</th>\n",
       "      <td>Дом жилой</td>\n",
       "      <td>третья четверть XIX века</td>\n",
       "      <td>набережная VI Армии, 93</td>\n",
       "      <td>NaN</td>\n",
       "      <td>региональная</td>\n",
       "      <td>Объект культурного наследия:№ 3500000844</td>\n",
       "      <td>Black</td>\n",
       "      <td>Утрачен полностью или значительно разрушен</td>\n",
       "      <td>39.883043</td>\n",
       "      <td>59.226538</td>\n",
       "      <td>Россия, Вологда, набережная 6-й Армии, 93</td>\n",
       "    </tr>\n",
       "  </tbody>\n",
       "</table>\n",
       "</div>"
      ],
      "text/plain": [
       "                               type                      year  \\\n",
       "0                         Дом жилой                   XIX век   \n",
       "1                         Дом жилой  первая половина XIX века   \n",
       "2  Дом жилой (с дворовым пристроем)  первая половина XIX века   \n",
       "3                         Дом жилой  третья четверть XIX века   \n",
       "4                         Дом жилой  третья четверть XIX века   \n",
       "\n",
       "                   address    comment      category  \\\n",
       "0  набережная VI Армии, 41        NaN  региональная   \n",
       "1  набережная VI Армии, 51  жилой дом  региональная   \n",
       "2  набережная VI Армии, 81        NaN  региональная   \n",
       "3  набережная VI Армии, 91        NaN  региональная   \n",
       "4  набережная VI Армии, 93        NaN  региональная   \n",
       "\n",
       "                                       num1 status_color  \\\n",
       "0  Объект культурного наследия:№ 3500068000        Black   \n",
       "1  Объект культурного наследия:№ 3500000840     DarkBlue   \n",
       "2  Объект культурного наследия:№ 3500070001        Black   \n",
       "3  Объект культурного наследия:№ 3500000842        Black   \n",
       "4  Объект культурного наследия:№ 3500000844        Black   \n",
       "\n",
       "                                              status        lat        lon  \\\n",
       "0         Утрачен полностью или значительно разрушен  39.894361  59.235377   \n",
       "1  Отреставрирован со значительными нарушениями п...  39.891415  59.232863   \n",
       "2         Утрачен полностью или значительно разрушен  39.878623  59.228623   \n",
       "3         Утрачен полностью или значительно разрушен  39.882405  59.226685   \n",
       "4         Утрачен полностью или значительно разрушен  39.883043  59.226538   \n",
       "\n",
       "                                 yandex_addr  \n",
       "0  Россия, Вологда, набережная 6-й Армии, 41  \n",
       "1  Россия, Вологда, набережная 6-й Армии, 51  \n",
       "2  Россия, Вологда, набережная 6-й Армии, 81  \n",
       "3  Россия, Вологда, набережная 6-й Армии, 91  \n",
       "4  Россия, Вологда, набережная 6-й Армии, 93  "
      ]
     },
     "execution_count": 13,
     "metadata": {},
     "output_type": "execute_result"
    }
   ],
   "source": [
    "houses.head()"
   ]
  },
  {
   "cell_type": "code",
   "execution_count": 15,
   "metadata": {},
   "outputs": [],
   "source": [
    "houses.to_csv('houses.csv')"
   ]
  },
  {
   "cell_type": "code",
   "execution_count": null,
   "metadata": {},
   "outputs": [],
   "source": []
  }
 ],
 "metadata": {
  "interpreter": {
   "hash": "a06c78839b7d1a16a9b78cfba6cfb579c16d6c0080ce6de39491727e5e4076d3"
  },
  "kernelspec": {
   "display_name": "Python 3.8.8 ('base')",
   "language": "python",
   "name": "python3"
  },
  "language_info": {
   "codemirror_mode": {
    "name": "ipython",
    "version": 3
   },
   "file_extension": ".py",
   "mimetype": "text/x-python",
   "name": "python",
   "nbconvert_exporter": "python",
   "pygments_lexer": "ipython3",
   "version": "3.8.8"
  },
  "orig_nbformat": 4
 },
 "nbformat": 4,
 "nbformat_minor": 2
}
