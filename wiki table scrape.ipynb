{
 "cells": [
  {
   "cell_type": "code",
   "execution_count": 1,
   "metadata": {},
   "outputs": [],
   "source": [
    "import requests\n",
    "import json\n",
    "import pandas as pd\n",
    "from bs4 import BeautifulSoup"
   ]
  },
  {
   "cell_type": "markdown",
   "metadata": {},
   "source": [
    "Будем скрейпить одну таблицу с Википедии"
   ]
  },
  {
   "cell_type": "code",
   "execution_count": 2,
   "metadata": {},
   "outputs": [],
   "source": [
    "url_wiki = requests.get('https://ru.wikipedia.org/wiki/%D0%A1%D0%BF%D0%B8%D1%81%D0%BE%D0%BA_%D0%B4%D0%B5%D1%80%D0%B5%D0%B2%D1%8F%D0%BD%D0%BD%D1%8B%D1%85_%D0%BF%D0%B0%D0%BC%D1%8F%D1%82%D0%BD%D0%B8%D0%BA%D0%BE%D0%B2_%D0%B0%D1%80%D1%85%D0%B8%D1%82%D0%B5%D0%BA%D1%82%D1%83%D1%80%D1%8B_%D0%92%D0%BE%D0%BB%D0%BE%D0%B3%D0%B4%D1%8B').text"
   ]
  },
  {
   "cell_type": "code",
   "execution_count": 3,
   "metadata": {},
   "outputs": [],
   "source": [
    "soup = BeautifulSoup(url_wiki, 'html.parser')"
   ]
  },
  {
   "cell_type": "markdown",
   "metadata": {},
   "source": [
    "Находим нужную таблицу на странице"
   ]
  },
  {
   "cell_type": "code",
   "execution_count": 4,
   "metadata": {},
   "outputs": [],
   "source": [
    "tables = soup.find_all('table', { \"class\" : \"standard\" })[0]\n",
    "rows = tables.find_all('tr')"
   ]
  },
  {
   "cell_type": "code",
   "execution_count": 32,
   "metadata": {},
   "outputs": [],
   "source": [
    "data = []\n",
    "colors = []\n",
    "color = None\n",
    "for row in rows:\n",
    "    cols = row.find_all('td')\n",
    "    for i in cols:\n",
    "        if i.get('bgcolor') != None:\n",
    "            color = i.get('bgcolor')\n",
    "    cols = [ele.text.strip() for ele in cols]\n",
    "    cols.append(color)\n",
    "    data.append(cols)"
   ]
  },
  {
   "cell_type": "code",
   "execution_count": 33,
   "metadata": {},
   "outputs": [],
   "source": [
    "for i in data:\n",
    "    if len(i) < 8:\n",
    "        data.remove(i)"
   ]
  },
  {
   "cell_type": "code",
   "execution_count": 38,
   "metadata": {},
   "outputs": [],
   "source": [
    "houses_df = pd.DataFrame(data)"
   ]
  },
  {
   "cell_type": "code",
   "execution_count": 40,
   "metadata": {},
   "outputs": [],
   "source": [
    "houses_df.columns = ['id', 'more_id', 'type', 'year', 'address', 'comment', 'category', 'num1', 'num2', 'status_color']"
   ]
  },
  {
   "cell_type": "code",
   "execution_count": 41,
   "metadata": {},
   "outputs": [
    {
     "data": {
      "text/html": [
       "<div>\n",
       "<style scoped>\n",
       "    .dataframe tbody tr th:only-of-type {\n",
       "        vertical-align: middle;\n",
       "    }\n",
       "\n",
       "    .dataframe tbody tr th {\n",
       "        vertical-align: top;\n",
       "    }\n",
       "\n",
       "    .dataframe thead th {\n",
       "        text-align: right;\n",
       "    }\n",
       "</style>\n",
       "<table border=\"1\" class=\"dataframe\">\n",
       "  <thead>\n",
       "    <tr style=\"text-align: right;\">\n",
       "      <th></th>\n",
       "      <th>id</th>\n",
       "      <th>more_id</th>\n",
       "      <th>type</th>\n",
       "      <th>year</th>\n",
       "      <th>address</th>\n",
       "      <th>comment</th>\n",
       "      <th>category</th>\n",
       "      <th>num1</th>\n",
       "      <th>num2</th>\n",
       "      <th>status_color</th>\n",
       "    </tr>\n",
       "  </thead>\n",
       "  <tbody>\n",
       "    <tr>\n",
       "      <th>0</th>\n",
       "      <td>1</td>\n",
       "      <td></td>\n",
       "      <td>Дом жилой</td>\n",
       "      <td>XIX век</td>\n",
       "      <td>набережная VI Армии, 41</td>\n",
       "      <td></td>\n",
       "      <td>региональная</td>\n",
       "      <td>Объект культурного наследия:№ 3500068000</td>\n",
       "      <td>Объект культурного наследия:№ 3500068000</td>\n",
       "      <td>Black</td>\n",
       "    </tr>\n",
       "    <tr>\n",
       "      <th>1</th>\n",
       "      <td>2</td>\n",
       "      <td></td>\n",
       "      <td>Дом жилой</td>\n",
       "      <td>первая половина XIX века</td>\n",
       "      <td>набережная VI Армии, 51</td>\n",
       "      <td>жилой дом</td>\n",
       "      <td>региональная</td>\n",
       "      <td>Объект культурного наследия:№ 3500000840</td>\n",
       "      <td>Объект культурного наследия:№ 3500000840</td>\n",
       "      <td>DarkBlue</td>\n",
       "    </tr>\n",
       "    <tr>\n",
       "      <th>2</th>\n",
       "      <td>3</td>\n",
       "      <td></td>\n",
       "      <td>Дом жилой (с дворовым пристроем)</td>\n",
       "      <td>первая половина XIX века</td>\n",
       "      <td>набережная VI Армии, 81</td>\n",
       "      <td></td>\n",
       "      <td>региональная</td>\n",
       "      <td>Объект культурного наследия:№ 3500070001</td>\n",
       "      <td>Объект культурного наследия:№ 3500070001</td>\n",
       "      <td>Black</td>\n",
       "    </tr>\n",
       "    <tr>\n",
       "      <th>3</th>\n",
       "      <td>4</td>\n",
       "      <td></td>\n",
       "      <td>Дом жилой</td>\n",
       "      <td>третья четверть XIX века</td>\n",
       "      <td>набережная VI Армии, 91</td>\n",
       "      <td></td>\n",
       "      <td>региональная</td>\n",
       "      <td>Объект культурного наследия:№ 3500000842</td>\n",
       "      <td>Объект культурного наследия:№ 3500000842</td>\n",
       "      <td>Black</td>\n",
       "    </tr>\n",
       "    <tr>\n",
       "      <th>4</th>\n",
       "      <td>5</td>\n",
       "      <td></td>\n",
       "      <td>Дом жилой</td>\n",
       "      <td>третья четверть XIX века</td>\n",
       "      <td>набережная VI Армии, 93</td>\n",
       "      <td></td>\n",
       "      <td>региональная</td>\n",
       "      <td>Объект культурного наследия:№ 3500000844</td>\n",
       "      <td>Объект культурного наследия:№ 3500000844</td>\n",
       "      <td>Black</td>\n",
       "    </tr>\n",
       "  </tbody>\n",
       "</table>\n",
       "</div>"
      ],
      "text/plain": [
       "  id more_id                              type                      year  \\\n",
       "0  1                                 Дом жилой                   XIX век   \n",
       "1  2                                 Дом жилой  первая половина XIX века   \n",
       "2  3          Дом жилой (с дворовым пристроем)  первая половина XIX века   \n",
       "3  4                                 Дом жилой  третья четверть XIX века   \n",
       "4  5                                 Дом жилой  третья четверть XIX века   \n",
       "\n",
       "                   address    comment      category  \\\n",
       "0  набережная VI Армии, 41             региональная   \n",
       "1  набережная VI Армии, 51  жилой дом  региональная   \n",
       "2  набережная VI Армии, 81             региональная   \n",
       "3  набережная VI Армии, 91             региональная   \n",
       "4  набережная VI Армии, 93             региональная   \n",
       "\n",
       "                                       num1  \\\n",
       "0  Объект культурного наследия:№ 3500068000   \n",
       "1  Объект культурного наследия:№ 3500000840   \n",
       "2  Объект культурного наследия:№ 3500070001   \n",
       "3  Объект культурного наследия:№ 3500000842   \n",
       "4  Объект культурного наследия:№ 3500000844   \n",
       "\n",
       "                                       num2 status_color  \n",
       "0  Объект культурного наследия:№ 3500068000        Black  \n",
       "1  Объект культурного наследия:№ 3500000840     DarkBlue  \n",
       "2  Объект культурного наследия:№ 3500070001        Black  \n",
       "3  Объект культурного наследия:№ 3500000842        Black  \n",
       "4  Объект культурного наследия:№ 3500000844        Black  "
      ]
     },
     "execution_count": 41,
     "metadata": {},
     "output_type": "execute_result"
    }
   ],
   "source": [
    "houses_df.head()"
   ]
  },
  {
   "cell_type": "markdown",
   "metadata": {},
   "source": [
    "В колонке цвета зашифровано состояние дома. Нужно её преобразовать"
   ]
  },
  {
   "cell_type": "code",
   "execution_count": 42,
   "metadata": {},
   "outputs": [],
   "source": [
    "def get_state(row):\n",
    "    if row == 'Black':\n",
    "        return 'Утрачен полностью или значительно разрушен'\n",
    "    elif row == 'Chocolate':\n",
    "        return 'Хорошее (удовлетворительное)'\n",
    "    elif row == 'DarkBlue':\n",
    "        return 'Отреставрирован со значительными нарушениями первоначального облика'\n",
    "    elif row == 'DarkRed':\n",
    "        return 'Аварийное'\n",
    "    elif row == 'Lime':\n",
    "        return 'Отреставрирован'"
   ]
  },
  {
   "cell_type": "code",
   "execution_count": 43,
   "metadata": {},
   "outputs": [],
   "source": [
    "houses_df['status'] = houses_df['status_color'].apply(get_state)"
   ]
  },
  {
   "cell_type": "markdown",
   "metadata": {},
   "source": [
    "Убираем ненужные колонки и сохраняем датасет"
   ]
  },
  {
   "cell_type": "code",
   "execution_count": 45,
   "metadata": {},
   "outputs": [],
   "source": [
    "houses_df.drop(['id', 'more_id', 'num2'], axis=1, inplace=True)"
   ]
  },
  {
   "cell_type": "code",
   "execution_count": 46,
   "metadata": {},
   "outputs": [
    {
     "data": {
      "text/html": [
       "<div>\n",
       "<style scoped>\n",
       "    .dataframe tbody tr th:only-of-type {\n",
       "        vertical-align: middle;\n",
       "    }\n",
       "\n",
       "    .dataframe tbody tr th {\n",
       "        vertical-align: top;\n",
       "    }\n",
       "\n",
       "    .dataframe thead th {\n",
       "        text-align: right;\n",
       "    }\n",
       "</style>\n",
       "<table border=\"1\" class=\"dataframe\">\n",
       "  <thead>\n",
       "    <tr style=\"text-align: right;\">\n",
       "      <th></th>\n",
       "      <th>type</th>\n",
       "      <th>year</th>\n",
       "      <th>address</th>\n",
       "      <th>comment</th>\n",
       "      <th>category</th>\n",
       "      <th>num1</th>\n",
       "      <th>status_color</th>\n",
       "      <th>status</th>\n",
       "    </tr>\n",
       "  </thead>\n",
       "  <tbody>\n",
       "    <tr>\n",
       "      <th>0</th>\n",
       "      <td>Дом жилой</td>\n",
       "      <td>XIX век</td>\n",
       "      <td>набережная VI Армии, 41</td>\n",
       "      <td></td>\n",
       "      <td>региональная</td>\n",
       "      <td>Объект культурного наследия:№ 3500068000</td>\n",
       "      <td>Black</td>\n",
       "      <td>Утрачен полностью или значительно разрушен</td>\n",
       "    </tr>\n",
       "    <tr>\n",
       "      <th>1</th>\n",
       "      <td>Дом жилой</td>\n",
       "      <td>первая половина XIX века</td>\n",
       "      <td>набережная VI Армии, 51</td>\n",
       "      <td>жилой дом</td>\n",
       "      <td>региональная</td>\n",
       "      <td>Объект культурного наследия:№ 3500000840</td>\n",
       "      <td>DarkBlue</td>\n",
       "      <td>Отреставрирован со значительными нарушениями п...</td>\n",
       "    </tr>\n",
       "    <tr>\n",
       "      <th>2</th>\n",
       "      <td>Дом жилой (с дворовым пристроем)</td>\n",
       "      <td>первая половина XIX века</td>\n",
       "      <td>набережная VI Армии, 81</td>\n",
       "      <td></td>\n",
       "      <td>региональная</td>\n",
       "      <td>Объект культурного наследия:№ 3500070001</td>\n",
       "      <td>Black</td>\n",
       "      <td>Утрачен полностью или значительно разрушен</td>\n",
       "    </tr>\n",
       "    <tr>\n",
       "      <th>3</th>\n",
       "      <td>Дом жилой</td>\n",
       "      <td>третья четверть XIX века</td>\n",
       "      <td>набережная VI Армии, 91</td>\n",
       "      <td></td>\n",
       "      <td>региональная</td>\n",
       "      <td>Объект культурного наследия:№ 3500000842</td>\n",
       "      <td>Black</td>\n",
       "      <td>Утрачен полностью или значительно разрушен</td>\n",
       "    </tr>\n",
       "    <tr>\n",
       "      <th>4</th>\n",
       "      <td>Дом жилой</td>\n",
       "      <td>третья четверть XIX века</td>\n",
       "      <td>набережная VI Армии, 93</td>\n",
       "      <td></td>\n",
       "      <td>региональная</td>\n",
       "      <td>Объект культурного наследия:№ 3500000844</td>\n",
       "      <td>Black</td>\n",
       "      <td>Утрачен полностью или значительно разрушен</td>\n",
       "    </tr>\n",
       "  </tbody>\n",
       "</table>\n",
       "</div>"
      ],
      "text/plain": [
       "                               type                      year  \\\n",
       "0                         Дом жилой                   XIX век   \n",
       "1                         Дом жилой  первая половина XIX века   \n",
       "2  Дом жилой (с дворовым пристроем)  первая половина XIX века   \n",
       "3                         Дом жилой  третья четверть XIX века   \n",
       "4                         Дом жилой  третья четверть XIX века   \n",
       "\n",
       "                   address    comment      category  \\\n",
       "0  набережная VI Армии, 41             региональная   \n",
       "1  набережная VI Армии, 51  жилой дом  региональная   \n",
       "2  набережная VI Армии, 81             региональная   \n",
       "3  набережная VI Армии, 91             региональная   \n",
       "4  набережная VI Армии, 93             региональная   \n",
       "\n",
       "                                       num1 status_color  \\\n",
       "0  Объект культурного наследия:№ 3500068000        Black   \n",
       "1  Объект культурного наследия:№ 3500000840     DarkBlue   \n",
       "2  Объект культурного наследия:№ 3500070001        Black   \n",
       "3  Объект культурного наследия:№ 3500000842        Black   \n",
       "4  Объект культурного наследия:№ 3500000844        Black   \n",
       "\n",
       "                                              status  \n",
       "0         Утрачен полностью или значительно разрушен  \n",
       "1  Отреставрирован со значительными нарушениями п...  \n",
       "2         Утрачен полностью или значительно разрушен  \n",
       "3         Утрачен полностью или значительно разрушен  \n",
       "4         Утрачен полностью или значительно разрушен  "
      ]
     },
     "execution_count": 46,
     "metadata": {},
     "output_type": "execute_result"
    }
   ],
   "source": [
    "houses_df.head()"
   ]
  },
  {
   "cell_type": "code",
   "execution_count": 49,
   "metadata": {},
   "outputs": [],
   "source": [
    "houses_df.to_csv('houses.csv')"
   ]
  },
  {
   "cell_type": "code",
   "execution_count": null,
   "metadata": {},
   "outputs": [],
   "source": []
  }
 ],
 "metadata": {
  "interpreter": {
   "hash": "f78eb45527eefda2c65726eb86223498223ce4943ffa93467e2e29e72f833f96"
  },
  "kernelspec": {
   "display_name": "Python 3.8.12 ('Tensorflow')",
   "language": "python",
   "name": "python3"
  },
  "language_info": {
   "codemirror_mode": {
    "name": "ipython",
    "version": 3
   },
   "file_extension": ".py",
   "mimetype": "text/x-python",
   "name": "python",
   "nbconvert_exporter": "python",
   "pygments_lexer": "ipython3",
   "version": "3.8.8"
  },
  "orig_nbformat": 4
 },
 "nbformat": 4,
 "nbformat_minor": 2
}
